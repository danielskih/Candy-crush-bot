{
 "cells": [
  {
   "cell_type": "code",
   "execution_count": 1,
   "metadata": {},
   "outputs": [],
   "source": [
    "from itertools import product, chain\n",
    "from IPython.display import Image, display\n",
    "import numpy as np\n",
    "import matplotlib.pyplot as plt\n",
    "%matplotlib inline\n",
    "from time import sleep\n",
    "from PIL import Image as Imag\n",
    "import pyautogui\n",
    "import pandas as pd\n",
    "from copy import deepcopy"
   ]
  },
  {
   "cell_type": "code",
   "execution_count": 2,
   "metadata": {},
   "outputs": [],
   "source": [
    "# Legal moves list\n",
    "candy_all=['blue', 'red', 'green', 'violett', 'orange']"
   ]
  },
  {
   "cell_type": "code",
   "execution_count": 3,
   "metadata": {},
   "outputs": [],
   "source": [
    "def closeButtonLookup():\n",
    "    '''Looks for close button and presses it returns False if close button is not found, else - True'''\n",
    "    if bool(pyautogui.locateCenterOnScreen('Images/btn_close.png', confidence=0.7))==True:\n",
    "        x, y = pyautogui.locateCenterOnScreen('Images/btn_close.png', confidence=0.7)\n",
    "        pyautogui.click(x/2, y/2, duration=0.5, button='right')\n",
    "        print('OK,I am out of here!')\n",
    "        return True\n",
    "    return False"
   ]
  },
  {
   "cell_type": "code",
   "execution_count": 4,
   "metadata": {},
   "outputs": [],
   "source": [
    "class GameState():\n",
    "    '''Game state, board = dataframe, 'frm' and 'at' = lists of row/colum values of origin and current position'''\n",
    "    def __init__(self,  board, parent=None, frm=None, at=None):\n",
    "        self.board = board\n",
    "        self.parent = parent\n",
    "        self.frm = frm\n",
    "        self.at = at\n",
    "        self.score = 0\n",
    "        self.double = False\n",
    "        self.super = False\n",
    "        self.matches_vert = list()\n",
    "        self.matches_horiz = list()\n",
    "        self.children = list()"
   ]
  },
  {
   "cell_type": "code",
   "execution_count": 5,
   "metadata": {},
   "outputs": [],
   "source": [
    "class Match():\n",
    "    '''Match contains info on size, position and type of candy'''\n",
    "    def __init__(self, typ, pos):\n",
    "        self.size = pos.shape[0]\n",
    "        self.pos = pos\n",
    "        self.typ = typ       "
   ]
  },
  {
   "cell_type": "code",
   "execution_count": 6,
   "metadata": {},
   "outputs": [],
   "source": [
    "def find_match(selected): \n",
    "    \n",
    "    '''Takes Series as an input, returns index of a match3 in the series if there is, else: False'''\n",
    "    \n",
    "    match=[i for i in selected.index]\n",
    "    diff = [1]+[i-j for j,i in zip(match[:-1], match[1:])]\n",
    "    diff = np.absolute(np.array(diff)) \n",
    "    mask = diff == 1\n",
    "    if selected[mask].size>=3:\n",
    "        return list(selected[mask].index)\n",
    "    return "
   ]
  },
  {
   "cell_type": "code",
   "execution_count": 7,
   "metadata": {},
   "outputs": [],
   "source": [
    "def move_to(global_board, fr, to):\n",
    "\n",
    "    '''Takes a Dataframe, and two lists of row/col values, swaps values in specified cells. \n",
    "        Outputs resulting Data frame '''\n",
    "    local_board=global_board.copy()\n",
    "    local_board.loc[fr[0], fr[1]], local_board.loc[to[0], to[1]] = local_board.loc[to[0], to[1]], local_board.loc[fr[0], fr[1]]\n",
    "\n",
    "    return local_board"
   ]
  },
  {
   "cell_type": "code",
   "execution_count": 8,
   "metadata": {},
   "outputs": [],
   "source": [
    "def generate_children(global_board, pos):\n",
    "\n",
    "    '''Generate gamestates from valid moves from a given tile, pos=list of row/col values.\n",
    "    Return list of gamestates.'''\n",
    "\n",
    "    positions = np.array(pos)\n",
    "    directions = np.array([[1, 0], [0, 1], [-1, 0], [0, -1]])\n",
    "    moves = np.add(positions, directions)\n",
    "\n",
    "    # Filter the values outside of the local_board\n",
    "    moves = moves[(0<=moves[:,0]) & (moves[:,0]< board_w)]\n",
    "    moves = moves[(0<=moves[:,1]) & (moves[:,1]< board_h)]\n",
    "\n",
    "    # filter the candy_all moves and save them in a children nodes attribute\n",
    "    children=[]\n",
    "    for move in moves:\n",
    "        if tuple(move) in legal_tiles:\n",
    "            local_board = move_to(global_board, pos, move)\n",
    "#             display(local_board)\n",
    "            m = GameState(local_board, None, frm=pos, at=move)\n",
    "#             print(id(m.board))\n",
    "            children.append(m)\n",
    "\n",
    "    return children"
   ]
  },
  {
   "cell_type": "markdown",
   "metadata": {},
   "source": [
    "## Create board"
   ]
  },
  {
   "cell_type": "markdown",
   "metadata": {},
   "source": [
    "#### Get input for board height and width."
   ]
  },
  {
   "cell_type": "code",
   "execution_count": 9,
   "metadata": {},
   "outputs": [],
   "source": [
    "# board_w = int(input('Borad width is:  '))\n",
    "board_w = 5"
   ]
  },
  {
   "cell_type": "code",
   "execution_count": 10,
   "metadata": {},
   "outputs": [],
   "source": [
    "# board_h = int(input('Borad width is: '))\n",
    "board_h = 5"
   ]
  },
  {
   "cell_type": "code",
   "execution_count": 104,
   "metadata": {},
   "outputs": [],
   "source": [
    "board = pd.DataFrame('0', index=range(board_h), columns=range(board_w))\n",
    "Root = GameState(board.copy()) "
   ]
  },
  {
   "cell_type": "code",
   "execution_count": 105,
   "metadata": {},
   "outputs": [],
   "source": [
    "def select_type(typ, board, ind=board.index, col=board.columns):\n",
    "\n",
    "    '''Select all instances of a given type in a Series = board.iloc[index, column] \n",
    "    where board is Pandas DataFrame. When calling the function one of the kwargs MUST be given in a call'''\n",
    "\n",
    "    selected = board.loc[ind,col][board.loc[ind,col]==typ]\n",
    "    if selected.size>=3:\n",
    "        return selected\n",
    "\n",
    "    return pd.Series(dtype='object')"
   ]
  },
  {
   "cell_type": "code",
   "execution_count": 106,
   "metadata": {},
   "outputs": [],
   "source": [
    "all_tiles = list(product(range(5),range(5)))\n",
    "# all_tiles"
   ]
  },
  {
   "cell_type": "markdown",
   "metadata": {},
   "source": [
    "#### Add some candy manually for testing purpouse"
   ]
  },
  {
   "cell_type": "code",
   "execution_count": 107,
   "metadata": {},
   "outputs": [],
   "source": [
    "Root.board.loc[1,[1,2]]='red'\n",
    "Root.board.loc[2,[2,3]]='blue'\n",
    "Root.board.loc[[0,2,3],4]='red'\n",
    "Root.board.loc[1,1]='blue'\n",
    "Root.board.loc[[2,3],1]='orange'\n",
    "Root.board.loc[1,[2,3]]='orange'\n",
    "Root.board.loc[0,1]='red'\n",
    "Root.board.loc[1,4]='blue'\n",
    "Root.board.loc[3,2]='blue'\n",
    "# Root.board.loc[2,0], Root.board.loc[2,1]=Root.board.loc[2,1],Root.board.loc[2,0]"
   ]
  },
  {
   "cell_type": "raw",
   "metadata": {},
   "source": [
    "Root.board = move_to(Root.board,[2,0], [2,1])\n",
    "# Root.board = move_to(Root.board,[2,0], [2,1])"
   ]
  },
  {
   "cell_type": "code",
   "execution_count": 108,
   "metadata": {},
   "outputs": [],
   "source": [
    "legal_tiles = [tile for tile in all_tiles if Root.board.iloc[tile[0], tile[1]] in candy_all]\n",
    "# legal_tiles"
   ]
  },
  {
   "cell_type": "code",
   "execution_count": 109,
   "metadata": {},
   "outputs": [
    {
     "data": {
      "text/html": [
       "<div>\n",
       "<style scoped>\n",
       "    .dataframe tbody tr th:only-of-type {\n",
       "        vertical-align: middle;\n",
       "    }\n",
       "\n",
       "    .dataframe tbody tr th {\n",
       "        vertical-align: top;\n",
       "    }\n",
       "\n",
       "    .dataframe thead th {\n",
       "        text-align: right;\n",
       "    }\n",
       "</style>\n",
       "<table border=\"1\" class=\"dataframe\">\n",
       "  <thead>\n",
       "    <tr style=\"text-align: right;\">\n",
       "      <th></th>\n",
       "      <th>0</th>\n",
       "      <th>1</th>\n",
       "      <th>2</th>\n",
       "      <th>3</th>\n",
       "      <th>4</th>\n",
       "    </tr>\n",
       "  </thead>\n",
       "  <tbody>\n",
       "    <tr>\n",
       "      <th>0</th>\n",
       "      <td>0</td>\n",
       "      <td>red</td>\n",
       "      <td>0</td>\n",
       "      <td>0</td>\n",
       "      <td>red</td>\n",
       "    </tr>\n",
       "    <tr>\n",
       "      <th>1</th>\n",
       "      <td>0</td>\n",
       "      <td>blue</td>\n",
       "      <td>orange</td>\n",
       "      <td>orange</td>\n",
       "      <td>blue</td>\n",
       "    </tr>\n",
       "    <tr>\n",
       "      <th>2</th>\n",
       "      <td>0</td>\n",
       "      <td>orange</td>\n",
       "      <td>blue</td>\n",
       "      <td>blue</td>\n",
       "      <td>red</td>\n",
       "    </tr>\n",
       "    <tr>\n",
       "      <th>3</th>\n",
       "      <td>0</td>\n",
       "      <td>orange</td>\n",
       "      <td>blue</td>\n",
       "      <td>0</td>\n",
       "      <td>red</td>\n",
       "    </tr>\n",
       "    <tr>\n",
       "      <th>4</th>\n",
       "      <td>0</td>\n",
       "      <td>0</td>\n",
       "      <td>0</td>\n",
       "      <td>0</td>\n",
       "      <td>0</td>\n",
       "    </tr>\n",
       "  </tbody>\n",
       "</table>\n",
       "</div>"
      ],
      "text/plain": [
       "   0       1       2       3     4\n",
       "0  0     red       0       0   red\n",
       "1  0    blue  orange  orange  blue\n",
       "2  0  orange    blue    blue   red\n",
       "3  0  orange    blue       0   red\n",
       "4  0       0       0       0     0"
      ]
     },
     "execution_count": 109,
     "metadata": {},
     "output_type": "execute_result"
    }
   ],
   "source": [
    "Root.board"
   ]
  },
  {
   "cell_type": "markdown",
   "metadata": {},
   "source": [
    "## Look for the matches"
   ]
  },
  {
   "cell_type": "code",
   "execution_count": 110,
   "metadata": {},
   "outputs": [],
   "source": [
    "candidates = list()"
   ]
  },
  {
   "cell_type": "code",
   "execution_count": 111,
   "metadata": {},
   "outputs": [],
   "source": [
    "for tile in legal_tiles:\n",
    "#     print(tile)\n",
    "#     display(generate_children(Root.board.copy(), tile)[0].board)\n",
    "    candidates.extend(generate_children(Root.board.copy(), tile))"
   ]
  },
  {
   "cell_type": "code",
   "execution_count": 112,
   "metadata": {},
   "outputs": [],
   "source": [
    "# candidates"
   ]
  },
  {
   "cell_type": "markdown",
   "metadata": {},
   "source": [
    "### Look for matches in the resulting boards."
   ]
  },
  {
   "cell_type": "code",
   "execution_count": 113,
   "metadata": {},
   "outputs": [],
   "source": [
    "for candidate in candidates:\n",
    "    # Column-wise\n",
    "    # Get types of the match to look for.\n",
    "    types=[]\n",
    "    types.append(candidate.board.iloc[candidate.frm[0], candidate.frm[1]])\n",
    "    types.append(candidate.board.iloc[candidate.at[0], candidate.at[1]])\n",
    "    for typ in types:\n",
    "\n",
    "        # Search the column for the values of the given type\n",
    "        res_vert = {i : select_type(typ, candidate.board, col=i) for i in candidate.board.columns \n",
    "                    if select_type(typ, candidate.board, col=i).any()}\n",
    "\n",
    "        # Now look for actual matches in the result of the search\n",
    "        for key, val in res_vert.items():\n",
    "                        match = find_match(val)\n",
    "                        if match:\n",
    "                            candidate.matches_vert.append( Match( val.all(), candidate.board.loc[match,key] ))\n",
    "        # And row-wise\n",
    "        res_horiz = {i : select_type(typ, candidate.board, ind=i) for i in candidate.board.index \n",
    "                     if select_type(typ, candidate.board, ind=i).any()}\n",
    "\n",
    "        for key, val in res_horiz.items():\n",
    "                        match = find_match(val)\n",
    "                        if match:\n",
    "                            candidate.matches_horiz.append( Match( val.all(), candidate.board.loc[key, match] ))"
   ]
  },
  {
   "cell_type": "code",
   "execution_count": 114,
   "metadata": {},
   "outputs": [
    {
     "data": {
      "text/html": [
       "<div>\n",
       "<style scoped>\n",
       "    .dataframe tbody tr th:only-of-type {\n",
       "        vertical-align: middle;\n",
       "    }\n",
       "\n",
       "    .dataframe tbody tr th {\n",
       "        vertical-align: top;\n",
       "    }\n",
       "\n",
       "    .dataframe thead th {\n",
       "        text-align: right;\n",
       "    }\n",
       "</style>\n",
       "<table border=\"1\" class=\"dataframe\">\n",
       "  <thead>\n",
       "    <tr style=\"text-align: right;\">\n",
       "      <th></th>\n",
       "      <th>1</th>\n",
       "      <th>2</th>\n",
       "      <th>3</th>\n",
       "    </tr>\n",
       "  </thead>\n",
       "  <tbody>\n",
       "    <tr>\n",
       "      <th>4</th>\n",
       "      <td>red</td>\n",
       "      <td>red</td>\n",
       "      <td>red</td>\n",
       "    </tr>\n",
       "    <tr>\n",
       "      <th>1</th>\n",
       "      <td>orange</td>\n",
       "      <td>orange</td>\n",
       "      <td>orange</td>\n",
       "    </tr>\n",
       "    <tr>\n",
       "      <th>2</th>\n",
       "      <td>blue</td>\n",
       "      <td>blue</td>\n",
       "      <td>blue</td>\n",
       "    </tr>\n",
       "    <tr>\n",
       "      <th>4</th>\n",
       "      <td>red</td>\n",
       "      <td>red</td>\n",
       "      <td>red</td>\n",
       "    </tr>\n",
       "  </tbody>\n",
       "</table>\n",
       "</div>"
      ],
      "text/plain": [
       "        1       2       3\n",
       "4     red     red     red\n",
       "1  orange  orange  orange\n",
       "2    blue    blue    blue\n",
       "4     red     red     red"
      ]
     },
     "execution_count": 114,
     "metadata": {},
     "output_type": "execute_result"
    }
   ],
   "source": [
    "pd.DataFrame([i.matches_vert[0].pos for i in candidates if i.matches_vert])"
   ]
  },
  {
   "cell_type": "code",
   "execution_count": 115,
   "metadata": {},
   "outputs": [
    {
     "data": {
      "text/html": [
       "<div>\n",
       "<style scoped>\n",
       "    .dataframe tbody tr th:only-of-type {\n",
       "        vertical-align: middle;\n",
       "    }\n",
       "\n",
       "    .dataframe tbody tr th {\n",
       "        vertical-align: top;\n",
       "    }\n",
       "\n",
       "    .dataframe thead th {\n",
       "        text-align: right;\n",
       "    }\n",
       "</style>\n",
       "<table border=\"1\" class=\"dataframe\">\n",
       "  <thead>\n",
       "    <tr style=\"text-align: right;\">\n",
       "      <th></th>\n",
       "      <th>1</th>\n",
       "      <th>2</th>\n",
       "      <th>3</th>\n",
       "      <th>4</th>\n",
       "    </tr>\n",
       "  </thead>\n",
       "  <tbody>\n",
       "    <tr>\n",
       "      <th>1</th>\n",
       "      <td>orange</td>\n",
       "      <td>orange</td>\n",
       "      <td>orange</td>\n",
       "      <td>NaN</td>\n",
       "    </tr>\n",
       "    <tr>\n",
       "      <th>2</th>\n",
       "      <td>NaN</td>\n",
       "      <td>blue</td>\n",
       "      <td>blue</td>\n",
       "      <td>blue</td>\n",
       "    </tr>\n",
       "    <tr>\n",
       "      <th>2</th>\n",
       "      <td>blue</td>\n",
       "      <td>blue</td>\n",
       "      <td>blue</td>\n",
       "      <td>NaN</td>\n",
       "    </tr>\n",
       "    <tr>\n",
       "      <th>2</th>\n",
       "      <td>NaN</td>\n",
       "      <td>blue</td>\n",
       "      <td>blue</td>\n",
       "      <td>blue</td>\n",
       "    </tr>\n",
       "  </tbody>\n",
       "</table>\n",
       "</div>"
      ],
      "text/plain": [
       "        1       2       3     4\n",
       "1  orange  orange  orange   NaN\n",
       "2     NaN    blue    blue  blue\n",
       "2    blue    blue    blue   NaN\n",
       "2     NaN    blue    blue  blue"
      ]
     },
     "execution_count": 115,
     "metadata": {},
     "output_type": "execute_result"
    }
   ],
   "source": [
    "pd.DataFrame([cand.matches_horiz[0].pos for cand in candidates if cand.matches_horiz])"
   ]
  },
  {
   "cell_type": "markdown",
   "metadata": {},
   "source": [
    "### Prune the children. Keep boards with matches, delete the rest."
   ]
  },
  {
   "cell_type": "code",
   "execution_count": 116,
   "metadata": {},
   "outputs": [],
   "source": [
    "# Choose candidates that have vertical matches:\n",
    "vert_cands = [cand for cand in candidates if any(cand.matches_vert)]"
   ]
  },
  {
   "cell_type": "code",
   "execution_count": 117,
   "metadata": {},
   "outputs": [],
   "source": [
    "# Choose candidates that have horizontal matches:\n",
    "horiz_cands = [cand for cand in candidates if any(cand.matches_horiz)]"
   ]
  },
  {
   "cell_type": "markdown",
   "metadata": {},
   "source": [
    "### Evaluate children"
   ]
  },
  {
   "cell_type": "code",
   "execution_count": 118,
   "metadata": {},
   "outputs": [],
   "source": [
    "selected = []"
   ]
  },
  {
   "cell_type": "raw",
   "metadata": {},
   "source": [
    "# Look for double matches as they are likely to indicate super matches\n",
    "# Select cadidates that have matches in both horiz and vert, both matches are same color."
   ]
  },
  {
   "cell_type": "code",
   "execution_count": 119,
   "metadata": {},
   "outputs": [],
   "source": [
    "for gamestate in filter(lambda x: x in horiz_cands, vert_cands):\n",
    "#     display(gamestate.board)\n",
    "    if any([i.typ==j.typ for i in gamestate.matches_vert for j in gamestate.matches_horiz]):\n",
    "        gamestate.super=True\n",
    "    else:\n",
    "        gamestate.double=True\n",
    "    selected.append(gamestate)    "
   ]
  },
  {
   "cell_type": "code",
   "execution_count": 120,
   "metadata": {},
   "outputs": [],
   "source": [
    "def sum_score(instance):\n",
    "    s = sum([match.size for match in instance.matches_horiz]) + sum(match.size for match in instance.matches_vert)   \n",
    "    return s"
   ]
  },
  {
   "cell_type": "raw",
   "metadata": {},
   "source": [
    "for gamestate in vert_cands:\n",
    "    print (sum_score(gamestate))\n",
    "    display(gamestate.board)\n",
    "    print('='*30, '\\n')"
   ]
  },
  {
   "cell_type": "code",
   "execution_count": 121,
   "metadata": {},
   "outputs": [
    {
     "data": {
      "text/plain": [
       "((1, 2), array([1, 1]))"
      ]
     },
     "execution_count": 121,
     "metadata": {},
     "output_type": "execute_result"
    }
   ],
   "source": [
    "vert_cands[2].frm, vert_cands[2].at"
   ]
  },
  {
   "cell_type": "code",
   "execution_count": 122,
   "metadata": {},
   "outputs": [],
   "source": [
    "main_candidate_horiz = max(horiz_cands, key=sum_score)\n",
    "if any([match.size>3 for match in main_candidate_horiz.matches_horiz]):\n",
    "    main_candidate_horiz.super = True"
   ]
  },
  {
   "cell_type": "code",
   "execution_count": 123,
   "metadata": {},
   "outputs": [],
   "source": [
    "main_candidate_vert = max(vert_cands, key=sum_score)\n",
    "if any([match.size>3 for match in main_candidate_vert.matches_vert]):\n",
    "    main_candidate_vert.super = True"
   ]
  },
  {
   "cell_type": "code",
   "execution_count": 124,
   "metadata": {},
   "outputs": [],
   "source": [
    "main_candidate_horiz.score = sum_score(main_candidate_horiz)"
   ]
  },
  {
   "cell_type": "code",
   "execution_count": 125,
   "metadata": {},
   "outputs": [],
   "source": [
    "main_candidate_vert.score = sum_score(main_candidate_vert)"
   ]
  },
  {
   "cell_type": "code",
   "execution_count": 126,
   "metadata": {},
   "outputs": [],
   "source": [
    "selected.extend([main_candidate_horiz, main_candidate_vert])"
   ]
  },
  {
   "cell_type": "code",
   "execution_count": 127,
   "metadata": {},
   "outputs": [],
   "source": [
    "best = max(selected, key = lambda x: x.score)"
   ]
  },
  {
   "cell_type": "code",
   "execution_count": 129,
   "metadata": {},
   "outputs": [
    {
     "data": {
      "text/html": [
       "<div>\n",
       "<style scoped>\n",
       "    .dataframe tbody tr th:only-of-type {\n",
       "        vertical-align: middle;\n",
       "    }\n",
       "\n",
       "    .dataframe tbody tr th {\n",
       "        vertical-align: top;\n",
       "    }\n",
       "\n",
       "    .dataframe thead th {\n",
       "        text-align: right;\n",
       "    }\n",
       "</style>\n",
       "<table border=\"1\" class=\"dataframe\">\n",
       "  <thead>\n",
       "    <tr style=\"text-align: right;\">\n",
       "      <th></th>\n",
       "      <th>0</th>\n",
       "      <th>1</th>\n",
       "      <th>2</th>\n",
       "      <th>3</th>\n",
       "      <th>4</th>\n",
       "    </tr>\n",
       "  </thead>\n",
       "  <tbody>\n",
       "    <tr>\n",
       "      <th>0</th>\n",
       "      <td>0</td>\n",
       "      <td>red</td>\n",
       "      <td>0</td>\n",
       "      <td>0</td>\n",
       "      <td>red</td>\n",
       "    </tr>\n",
       "    <tr>\n",
       "      <th>1</th>\n",
       "      <td>0</td>\n",
       "      <td>orange</td>\n",
       "      <td>orange</td>\n",
       "      <td>orange</td>\n",
       "      <td>blue</td>\n",
       "    </tr>\n",
       "    <tr>\n",
       "      <th>2</th>\n",
       "      <td>0</td>\n",
       "      <td>blue</td>\n",
       "      <td>blue</td>\n",
       "      <td>blue</td>\n",
       "      <td>red</td>\n",
       "    </tr>\n",
       "    <tr>\n",
       "      <th>3</th>\n",
       "      <td>0</td>\n",
       "      <td>orange</td>\n",
       "      <td>blue</td>\n",
       "      <td>0</td>\n",
       "      <td>red</td>\n",
       "    </tr>\n",
       "    <tr>\n",
       "      <th>4</th>\n",
       "      <td>0</td>\n",
       "      <td>0</td>\n",
       "      <td>0</td>\n",
       "      <td>0</td>\n",
       "      <td>0</td>\n",
       "    </tr>\n",
       "  </tbody>\n",
       "</table>\n",
       "</div>"
      ],
      "text/plain": [
       "   0       1       2       3     4\n",
       "0  0     red       0       0   red\n",
       "1  0  orange  orange  orange  blue\n",
       "2  0    blue    blue    blue   red\n",
       "3  0  orange    blue       0   red\n",
       "4  0       0       0       0     0"
      ]
     },
     "execution_count": 129,
     "metadata": {},
     "output_type": "execute_result"
    }
   ],
   "source": [
    "best.board"
   ]
  },
  {
   "cell_type": "raw",
   "metadata": {},
   "source": [
    "collapse matches: \n",
    "- create empty cells where matches are \n",
    "- move remaining candies to fill the space."
   ]
  },
  {
   "cell_type": "code",
   "execution_count": null,
   "metadata": {},
   "outputs": [],
   "source": [
    "# screen size\n",
    "pyautogui.size().height"
   ]
  },
  {
   "cell_type": "code",
   "execution_count": null,
   "metadata": {},
   "outputs": [],
   "source": [
    "tile_w = 500/7\n",
    "tile_h = 524/8"
   ]
  },
  {
   "cell_type": "code",
   "execution_count": null,
   "metadata": {},
   "outputs": [],
   "source": [
    "offset_x = tile_w/2\n",
    "offset_y = tile_h/2"
   ]
  },
  {
   "cell_type": "raw",
   "metadata": {},
   "source": [
    "image = Imag.open(\"Images/game_board.png\")\n",
    "image_array = np.array(image)\n",
    "imgplot = plt.imshow(image_array)"
   ]
  },
  {
   "cell_type": "raw",
   "metadata": {},
   "source": [
    "blue=image_array[:133, :145]"
   ]
  },
  {
   "cell_type": "raw",
   "metadata": {},
   "source": [
    "imgplot = plt.imshow(blue)"
   ]
  },
  {
   "cell_type": "raw",
   "metadata": {},
   "source": [
    "a = np.mean(blue, axis=1)\n",
    "b = np.ones(133)\n",
    "np.matmul(a.T,b)/133"
   ]
  },
  {
   "cell_type": "raw",
   "metadata": {},
   "source": [
    "orange = image_array[:133, 145*2:145*3]\n",
    "plt.imshow(orange)"
   ]
  },
  {
   "cell_type": "raw",
   "metadata": {},
   "source": [
    "# Get mean RGB values\n",
    "c = np.mean(orange, axis=1)\n",
    "d = np.ones(133)\n",
    "np.matmul(c.T,d)/133"
   ]
  },
  {
   "cell_type": "raw",
   "metadata": {},
   "source": [
    "round(image_array.shape[0]/5)"
   ]
  }
 ],
 "metadata": {
  "kernelspec": {
   "display_name": "Python 3",
   "language": "python",
   "name": "python3"
  },
  "language_info": {
   "codemirror_mode": {
    "name": "ipython",
    "version": 3
   },
   "file_extension": ".py",
   "mimetype": "text/x-python",
   "name": "python",
   "nbconvert_exporter": "python",
   "pygments_lexer": "ipython3",
   "version": "3.8.2"
  }
 },
 "nbformat": 4,
 "nbformat_minor": 4
}
