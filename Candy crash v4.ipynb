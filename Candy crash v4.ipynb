{
 "cells": [
  {
   "cell_type": "code",
   "execution_count": 1,
   "metadata": {},
   "outputs": [],
   "source": [
    "from itertools import product, chain\n",
    "from IPython.display import Image, display\n",
    "import numpy as np\n",
    "import matplotlib.pyplot as plt\n",
    "%matplotlib inline\n",
    "from time import sleep\n",
    "from PIL import Image as Imag\n",
    "import pyautogui\n",
    "import pandas as pd\n",
    "from copy import deepcopy"
   ]
  },
  {
   "cell_type": "code",
   "execution_count": 2,
   "metadata": {},
   "outputs": [],
   "source": [
    "# Legal moves list\n",
    "candy_all=['blue', 'red', 'green', 'violett', 'orange']"
   ]
  },
  {
   "cell_type": "code",
   "execution_count": 3,
   "metadata": {},
   "outputs": [],
   "source": [
    "def closeButtonLookup():\n",
    "    '''Looks for close button and presses it returns False if close button is not found, else - True'''\n",
    "    if bool(pyautogui.locateCenterOnScreen('Images/btn_close.png', confidence=0.7))==True:\n",
    "        x, y = pyautogui.locateCenterOnScreen('Images/btn_close.png', confidence=0.7)\n",
    "        pyautogui.click(x/2, y/2, duration=0.5, button='right')\n",
    "        print('OK,I am out of here!')\n",
    "        return True\n",
    "    return False"
   ]
  },
  {
   "cell_type": "code",
   "execution_count": 4,
   "metadata": {},
   "outputs": [],
   "source": [
    "class GameState():\n",
    "    \n",
    "    '''Game state, board = dataframe, 'frm' and 'at' = lists of row/colum values of origin and current position'''\n",
    "    \n",
    "    def __init__(self,  board, parent=None, frm=None, at=None):\n",
    "        self.board = board\n",
    "        self.parent = parent\n",
    "        self.frm = frm\n",
    "        self.at = at\n",
    "        self.score = 0\n",
    "        self.super = False\n",
    "        self.matches_vert = list()\n",
    "        self.matches_horiz = list()\n",
    "        self.children = list()"
   ]
  },
  {
   "cell_type": "code",
   "execution_count": 5,
   "metadata": {},
   "outputs": [],
   "source": [
    "class Match():\n",
    "    \n",
    "    '''Match contains info on size, position and type of candy'''\n",
    "    \n",
    "    def __init__(self, typ, pos):\n",
    "        self.size = pos.shape[0]\n",
    "        self.pos = pos\n",
    "        self.typ = typ       "
   ]
  },
  {
   "cell_type": "code",
   "execution_count": 6,
   "metadata": {},
   "outputs": [],
   "source": [
    "def find_match(selected): \n",
    "    \n",
    "    '''Takes Series as an input, returns index of a match3 in the series if there is, else: None'''\n",
    "    \n",
    "    match=[i for i in selected.index]\n",
    "    diff = [1]+[i-j for j,i in zip(match[:-1], match[1:])]\n",
    "    diff = np.absolute(np.array(diff)) \n",
    "    mask = diff == 1\n",
    "    if selected[mask].size>=3:\n",
    "        return list(selected[mask].index)\n",
    "\n",
    "    return "
   ]
  },
  {
   "cell_type": "code",
   "execution_count": 7,
   "metadata": {},
   "outputs": [],
   "source": [
    "def move_to(global_board, fr, to):\n",
    "\n",
    "    '''Takes a Dataframe, and two lists of row/col values, swaps values in specified cells. \n",
    "        Outputs resulting Data frame '''\n",
    "    local_board=global_board.copy()\n",
    "    local_board.loc[fr[0], fr[1]], local_board.loc[to[0], to[1]] = local_board.loc[to[0], to[1]], local_board.loc[fr[0], fr[1]]\n",
    "\n",
    "    return local_board"
   ]
  },
  {
   "cell_type": "code",
   "execution_count": 10,
   "metadata": {},
   "outputs": [],
   "source": [
    "def generate_children(global_board, pos):\n",
    "\n",
    "    '''Generate gamestates from valid moves from a given tile, pos=list of row/col values.\n",
    "    Return list of gamestates.'''\n",
    "\n",
    "    positions = np.array(pos)\n",
    "    directions = np.array([[1, 0], [0, 1], [-1, 0], [0, -1]])\n",
    "    moves = np.add(positions, directions)\n",
    "\n",
    "    # Filter the values outside of the local_board\n",
    "    moves = moves[(0<=moves[:,0]) & (moves[:,0]< board_w)]\n",
    "    moves = moves[(0<=moves[:,1]) & (moves[:,1]< board_h)]\n",
    "\n",
    "    # Filter the legal_tiles moves and save them in a children nodes attribute\n",
    "    children=[]\n",
    "    for move in moves:\n",
    "        if tuple(move) in legal_tiles:\n",
    "            local_board = move_to(global_board, pos, move)\n",
    "#             display(local_board)\n",
    "            m = GameState(local_board, None, frm=pos, at=move)\n",
    "#             print(id(m.board))\n",
    "            children.append(m)\n",
    "\n",
    "    return children"
   ]
  },
  {
   "cell_type": "markdown",
   "metadata": {},
   "source": [
    "## Scan the game area, identify the cell contaiins."
   ]
  },
  {
   "cell_type": "markdown",
   "metadata": {},
   "source": [
    "#### Get input for board height and width."
   ]
  },
  {
   "cell_type": "code",
   "execution_count": 11,
   "metadata": {},
   "outputs": [
    {
     "name": "stdout",
     "output_type": "stream",
     "text": [
      "Borad width is:  7\n"
     ]
    }
   ],
   "source": [
    "board_w = int(input('Borad width is:  '))"
   ]
  },
  {
   "cell_type": "code",
   "execution_count": 12,
   "metadata": {},
   "outputs": [
    {
     "name": "stdout",
     "output_type": "stream",
     "text": [
      "Borad width is: 8\n"
     ]
    }
   ],
   "source": [
    "board_h = int(input('Borad width is: '))"
   ]
  },
  {
   "cell_type": "code",
   "execution_count": 13,
   "metadata": {},
   "outputs": [
    {
     "name": "stdout",
     "output_type": "stream",
     "text": [
      "Enter the color and amount of the wanted tiles, e.g. red, blue, orange, violet, green followed by number.\n"
     ]
    }
   ],
   "source": [
    "wanted = input('Enter the color and amount of the wanted tiles, e.g. red, blue, orange, violet, green followed by number.')"
   ]
  },
  {
   "cell_type": "code",
   "execution_count": 14,
   "metadata": {},
   "outputs": [],
   "source": [
    "tile_w = 138\n",
    "tile_h = 133"
   ]
  },
  {
   "cell_type": "code",
   "execution_count": 15,
   "metadata": {},
   "outputs": [],
   "source": [
    "wanted = wanted.split()"
   ]
  },
  {
   "cell_type": "code",
   "execution_count": 16,
   "metadata": {},
   "outputs": [],
   "source": [
    "offset_x = tile_w/2\n",
    "offset_y = tile_h/2"
   ]
  },
  {
   "cell_type": "code",
   "execution_count": 17,
   "metadata": {},
   "outputs": [
    {
     "data": {
      "text/plain": [
       "Size(width=1440, height=900)"
      ]
     },
     "execution_count": 17,
     "metadata": {},
     "output_type": "execute_result"
    }
   ],
   "source": [
    "screensize = pyautogui.size()\n",
    "screensize"
   ]
  },
  {
   "cell_type": "code",
   "execution_count": 18,
   "metadata": {},
   "outputs": [],
   "source": [
    "game_scr_size =  board_w * tile_w, board_h * tile_h\n",
    "corner = screensize[1]*2 - game_scr_size[1]\n",
    "t=pyautogui.screenshot('Images/board_ss.png',region=(10, corner, game_scr_size[0], game_scr_size[1]))"
   ]
  },
  {
   "cell_type": "code",
   "execution_count": 19,
   "metadata": {},
   "outputs": [],
   "source": [
    "image = Imag.open(\"Images/board_ss.png\")\n",
    "image_array = np.array(image)"
   ]
  },
  {
   "cell_type": "code",
   "execution_count": 20,
   "metadata": {},
   "outputs": [
    {
     "data": {
      "text/plain": [
       "(212.8, 193.2)"
      ]
     },
     "execution_count": 20,
     "metadata": {},
     "output_type": "execute_result"
    }
   ],
   "source": [
    "tilesize = ((image_array.shape[0]/5), (image_array.shape[1]/5))\n",
    "tilesize"
   ]
  },
  {
   "cell_type": "code",
   "execution_count": 21,
   "metadata": {},
   "outputs": [],
   "source": [
    "green = Imag.open('Images/candy_green.png')\n",
    "violet = Imag.open('Images/candy_violet.png')\n",
    "blue = Imag.open('Images/candy_blue.png')\n",
    "orange = Imag.open('Images/candy_orange.png')\n",
    "obstacle = Imag.open('Images/obstacle_1.png')"
   ]
  },
  {
   "cell_type": "code",
   "execution_count": 22,
   "metadata": {},
   "outputs": [
    {
     "data": {
      "image/png": "[encoded data removed]",
      "text/plain": [
       "<Figure size 720x504 with 5 Axes>"
      ]
     },
     "metadata": {
      "needs_background": "light"
     },
     "output_type": "display_data"
    }
   ],
   "source": [
    "fig = plt.figure(figsize=(10, 7))\n",
    "rows =1\n",
    "columns =5\n",
    "count=0\n",
    "for im in [orange, green, violet, blue, np.array(obstacle)]:\n",
    "    count+=1\n",
    "    fig.add_subplot(rows, columns, count)\n",
    "    plt.imshow(im)   "
   ]
  },
  {
   "cell_type": "raw",
   "metadata": {},
   "source": [
    "# Save images\n",
    "for color in [orange, green, violet, blue]:\n",
    "    im=Imag.fromarray(color)\n",
    "    im.save(f'candy_{im}.png')"
   ]
  },
  {
   "cell_type": "code",
   "execution_count": 23,
   "metadata": {},
   "outputs": [],
   "source": [
    "# TODO: change  mean calculations to use the pix_avg() function"
   ]
  },
  {
   "cell_type": "code",
   "execution_count": 205,
   "metadata": {},
   "outputs": [
    {
     "name": "stdout",
     "output_type": "stream",
     "text": [
      "(133, 145, 4)\n"
     ]
    }
   ],
   "source": [
    "print(blue.shape)\n",
    "a = np.mean(blue, axis=1)\n",
    "b = np.ones(133)\n",
    "blue_mean = np.matmul(a.T,b)/133"
   ]
  },
  {
   "cell_type": "raw",
   "metadata": {},
   "source": [
    "Root.board = move_to(Root.board,[2,0], [2,1])\n",
    "# Root.board = move_to(Root.board,[2,0], [2,1])"
   ]
  },
  {
   "cell_type": "code",
   "execution_count": 199,
   "metadata": {},
   "outputs": [],
   "source": [
    "# Get mean RGB values\n",
    "c = np.mean(orange, axis=1)\n",
    "orange_mean = np.matmul(c.T,b)/133"
   ]
  },
  {
   "cell_type": "code",
   "execution_count": 201,
   "metadata": {},
   "outputs": [],
   "source": [
    "d = np.mean(violet, axis=1)\n",
    "violet_mean = pix_avg(violerr"
   ]
  },
  {
   "cell_type": "code",
   "execution_count": 204,
   "metadata": {},
   "outputs": [],
   "source": [
    "e = np.mean(green, axis=1)\n",
    "green_mean = np.matmul(e.T,b)/133"
   ]
  },
  {
   "cell_type": "code",
   "execution_count": 286,
   "metadata": {},
   "outputs": [],
   "source": [
    "obstacle_mean = pix_avg(obstacle)"
   ]
  },
  {
   "cell_type": "code",
   "execution_count": 219,
   "metadata": {},
   "outputs": [
    {
     "data": {
      "text/plain": [
       "<matplotlib.image.AxesImage at 0x7fa239bf95b0>"
      ]
     },
     "execution_count": 219,
     "metadata": {},
     "output_type": "execute_result"
    },
    {
     "data": {
      "image/png": "[encoded data removed]",
      "text/plain": [
       "<Figure size 432x288 with 1 Axes>"
      ]
     },
     "metadata": {
      "needs_background": "light"
     },
     "output_type": "display_data"
    }
   ],
   "source": [
    "sample1 = image_array[133:133*2, 145*3:145*4]\n",
    "plt.imshow(sample1)"
   ]
  },
  {
   "cell_type": "code",
   "execution_count": 222,
   "metadata": {},
   "outputs": [],
   "source": [
    "def pix_avg(pix_array):\n",
    "    x = np.mean(pix_array, axis=1)\n",
    "    y = np.ones(133)\n",
    "    return np.matmul(x.T,y)/133"
   ]
  },
  {
   "cell_type": "code",
   "execution_count": 287,
   "metadata": {},
   "outputs": [],
   "source": [
    "candy_rgb = pd.DataFrame([green_mean, blue_mean, violet_mean, orange_mean, obstacle_mean], index =['green','blue','violet','orange','obstacle'])"
   ]
  },
  {
   "cell_type": "code",
   "execution_count": 223,
   "metadata": {},
   "outputs": [
    {
     "data": {
      "text/plain": [
       "array([133.94980555, 126.79533316, 123.41840809, 255.        ])"
      ]
     },
     "execution_count": 223,
     "metadata": {},
     "output_type": "execute_result"
    }
   ],
   "source": [
    "pix_avg(sample1)"
   ]
  },
  {
   "cell_type": "code",
   "execution_count": 288,
   "metadata": {},
   "outputs": [
    {
     "data": {
      "text/html": [
       "<div>\n",
       "<style scoped>\n",
       "    .dataframe tbody tr th:only-of-type {\n",
       "        vertical-align: middle;\n",
       "    }\n",
       "\n",
       "    .dataframe tbody tr th {\n",
       "        vertical-align: top;\n",
       "    }\n",
       "\n",
       "    .dataframe thead th {\n",
       "        text-align: right;\n",
       "    }\n",
       "</style>\n",
       "<table border=\"1\" class=\"dataframe\">\n",
       "  <thead>\n",
       "    <tr style=\"text-align: right;\">\n",
       "      <th></th>\n",
       "      <th>0</th>\n",
       "      <th>1</th>\n",
       "      <th>2</th>\n",
       "      <th>3</th>\n",
       "    </tr>\n",
       "  </thead>\n",
       "  <tbody>\n",
       "    <tr>\n",
       "      <th>green</th>\n",
       "      <td>-56.530430</td>\n",
       "      <td>14.429826</td>\n",
       "      <td>-27.891803</td>\n",
       "      <td>0.0</td>\n",
       "    </tr>\n",
       "    <tr>\n",
       "      <th>blue</th>\n",
       "      <td>-67.781592</td>\n",
       "      <td>-12.402385</td>\n",
       "      <td>70.467617</td>\n",
       "      <td>0.0</td>\n",
       "    </tr>\n",
       "    <tr>\n",
       "      <th>violet</th>\n",
       "      <td>-2.414062</td>\n",
       "      <td>-55.034951</td>\n",
       "      <td>82.091193</td>\n",
       "      <td>0.0</td>\n",
       "    </tr>\n",
       "    <tr>\n",
       "      <th>orange</th>\n",
       "      <td>-6.855276</td>\n",
       "      <td>-6.378118</td>\n",
       "      <td>-6.362873</td>\n",
       "      <td>0.0</td>\n",
       "    </tr>\n",
       "    <tr>\n",
       "      <th>obstacle</th>\n",
       "      <td>30.163485</td>\n",
       "      <td>43.704130</td>\n",
       "      <td>49.655932</td>\n",
       "      <td>0.0</td>\n",
       "    </tr>\n",
       "  </tbody>\n",
       "</table>\n",
       "</div>"
      ],
      "text/plain": [
       "                  0          1          2    3\n",
       "green    -56.530430  14.429826 -27.891803  0.0\n",
       "blue     -67.781592 -12.402385  70.467617  0.0\n",
       "violet    -2.414062 -55.034951  82.091193  0.0\n",
       "orange    -6.855276  -6.378118  -6.362873  0.0\n",
       "obstacle  30.163485  43.704130  49.655932  0.0"
      ]
     },
     "execution_count": 288,
     "metadata": {},
     "output_type": "execute_result"
    }
   ],
   "source": [
    "diff = candy_rgb - pix_avg(sample1)\n",
    "diff"
   ]
  },
  {
   "cell_type": "code",
   "execution_count": 290,
   "metadata": {},
   "outputs": [],
   "source": [
    "error = np.matmul(np.abs(candy_rgb.to_numpy()-pix_avg(sample1).T), np.ones(4))"
   ]
  },
  {
   "cell_type": "code",
   "execution_count": 293,
   "metadata": {},
   "outputs": [
    {
     "data": {
      "text/plain": [
       "'orange'"
      ]
     },
     "execution_count": 293,
     "metadata": {},
     "output_type": "execute_result"
    }
   ],
   "source": [
    "candy_rgb.index[np.argmin(error)]"
   ]
  },
  {
   "cell_type": "code",
   "execution_count": null,
   "metadata": {},
   "outputs": [],
   "source": []
  },
  {
   "cell_type": "markdown",
   "metadata": {},
   "source": [
    "## Create a representation of the game board."
   ]
  },
  {
   "cell_type": "code",
   "execution_count": 296,
   "metadata": {},
   "outputs": [],
   "source": [
    "board = pd.DataFrame('0', index=range(board_h), columns=range(board_w))\n",
    "Root = GameState(board.copy()) "
   ]
  },
  {
   "cell_type": "code",
   "execution_count": 297,
   "metadata": {},
   "outputs": [],
   "source": [
    "def select_type(typ, board, ind=board.index, col=board.columns):\n",
    "\n",
    "    '''Select all instances of a given type in a Series = board.iloc[index, column] \n",
    "    where board is Pandas DataFrame. When calling the function one of the kwargs MUST be given in a call'''\n",
    "\n",
    "    selected = board.loc[ind,col][board.loc[ind,col]==typ]\n",
    "    if selected.size>=3:\n",
    "        return selected\n",
    "\n",
    "    return pd.Series(dtype='object')"
   ]
  },
  {
   "cell_type": "markdown",
   "metadata": {},
   "source": [
    "### Split game ss to tiles."
   ]
  },
  {
   "cell_type": "code",
   "execution_count": 511,
   "metadata": {},
   "outputs": [],
   "source": [
    "all_tiles = list(product(range(5),range(5)))"
   ]
  },
  {
   "cell_type": "code",
   "execution_count": null,
   "metadata": {},
   "outputs": [],
   "source": []
  },
  {
   "cell_type": "code",
   "execution_count": 540,
   "metadata": {},
   "outputs": [
    {
     "data": {
      "image/png": "[encoded data removed]",
      "text/plain": [
       "<Figure size 360x360 with 25 Axes>"
      ]
     },
     "metadata": {
      "needs_background": "light"
     },
     "output_type": "display_data"
    }
   ],
   "source": [
    "fig = plt.figure(figsize=(5, 5))\n",
    "rows =5\n",
    "columns =5\n",
    "count=0  \n",
    "for i in all_tiles:\n",
    "    count+=1\n",
    "    fig.add_subplot(rows, columns, count)\n",
    "    starts = np.array(i) \n",
    "    ends = np.array(i)+1 \n",
    "    start = (starts * tilesize ).astype(int)\n",
    "    end = (ends * tilesize).astype(int)\n",
    "    plt.imshow(image_array[start[0]:end[0], start[1]:end[1]])"
   ]
  },
  {
   "cell_type": "markdown",
   "metadata": {},
   "source": [
    "#### Add some candy manually for testing purpouse"
   ]
  },
  {
   "cell_type": "code",
   "execution_count": 299,
   "metadata": {},
   "outputs": [],
   "source": [
    "Root.board.loc[1,[1,2]]='red'\n",
    "Root.board.loc[2,[2,3]]='blue'\n",
    "Root.board.loc[[0,2,3],4]='red'\n",
    "Root.board.loc[1,1]='blue'\n",
    "Root.board.loc[[2,3],1]='orange'\n",
    "Root.board.loc[1,[2,3]]='orange'\n",
    "Root.board.loc[0,1]='red'\n",
    "Root.board.loc[1,4]='blue'\n",
    "Root.board.loc[3,2]='blue'\n",
    "Root.board.loc[4,4]='obstacle'\n",
    "# Root.board.loc[2,0], Root.board.loc[2,1]=Root.board.loc[2,1],Root.board.loc[2,0]"
   ]
  },
  {
   "cell_type": "code",
   "execution_count": 300,
   "metadata": {},
   "outputs": [
    {
     "data": {
      "text/html": [
       "<div>\n",
       "<style scoped>\n",
       "    .dataframe tbody tr th:only-of-type {\n",
       "        vertical-align: middle;\n",
       "    }\n",
       "\n",
       "    .dataframe tbody tr th {\n",
       "        vertical-align: top;\n",
       "    }\n",
       "\n",
       "    .dataframe thead th {\n",
       "        text-align: right;\n",
       "    }\n",
       "</style>\n",
       "<table border=\"1\" class=\"dataframe\">\n",
       "  <thead>\n",
       "    <tr style=\"text-align: right;\">\n",
       "      <th></th>\n",
       "      <th>0</th>\n",
       "      <th>1</th>\n",
       "      <th>2</th>\n",
       "      <th>3</th>\n",
       "      <th>4</th>\n",
       "    </tr>\n",
       "  </thead>\n",
       "  <tbody>\n",
       "    <tr>\n",
       "      <th>0</th>\n",
       "      <td>0</td>\n",
       "      <td>red</td>\n",
       "      <td>0</td>\n",
       "      <td>0</td>\n",
       "      <td>red</td>\n",
       "    </tr>\n",
       "    <tr>\n",
       "      <th>1</th>\n",
       "      <td>0</td>\n",
       "      <td>blue</td>\n",
       "      <td>orange</td>\n",
       "      <td>orange</td>\n",
       "      <td>blue</td>\n",
       "    </tr>\n",
       "    <tr>\n",
       "      <th>2</th>\n",
       "      <td>0</td>\n",
       "      <td>orange</td>\n",
       "      <td>blue</td>\n",
       "      <td>blue</td>\n",
       "      <td>red</td>\n",
       "    </tr>\n",
       "    <tr>\n",
       "      <th>3</th>\n",
       "      <td>0</td>\n",
       "      <td>orange</td>\n",
       "      <td>blue</td>\n",
       "      <td>0</td>\n",
       "      <td>red</td>\n",
       "    </tr>\n",
       "    <tr>\n",
       "      <th>4</th>\n",
       "      <td>0</td>\n",
       "      <td>0</td>\n",
       "      <td>0</td>\n",
       "      <td>0</td>\n",
       "      <td>obstacle</td>\n",
       "    </tr>\n",
       "  </tbody>\n",
       "</table>\n",
       "</div>"
      ],
      "text/plain": [
       "   0       1       2       3         4\n",
       "0  0     red       0       0       red\n",
       "1  0    blue  orange  orange      blue\n",
       "2  0  orange    blue    blue       red\n",
       "3  0  orange    blue       0       red\n",
       "4  0       0       0       0  obstacle"
      ]
     },
     "execution_count": 300,
     "metadata": {},
     "output_type": "execute_result"
    }
   ],
   "source": [
    "Root.board"
   ]
  },
  {
   "cell_type": "code",
   "execution_count": 535,
   "metadata": {},
   "outputs": [],
   "source": [
    "tilesize = np.array(image_array.shape[:1])/np.array([board_h, board_w])\n",
    "tilesize = tilesize.round().astype(int)\n",
    "tilesize[1]=138 "
   ]
  },
  {
   "cell_type": "raw",
   "metadata": {},
   "source": [
    "loop all_tiles:\n",
    "    add tile dimensions and multiply \n",
    "    save the coordinates, "
   ]
  },
  {
   "cell_type": "code",
   "execution_count": 108,
   "metadata": {},
   "outputs": [],
   "source": [
    "legal_tiles = [tile for tile in all_tiles if Root.board.iloc[tile[0], tile[1]] in candy_all]\n",
    "# legal_tiles: in the game only candies can move"
   ]
  },
  {
   "cell_type": "code",
   "execution_count": 533,
   "metadata": {},
   "outputs": [
    {
     "data": {
      "text/plain": [
       "<matplotlib.image.AxesImage at 0x7fa2106a3130>"
      ]
     },
     "execution_count": 533,
     "metadata": {},
     "output_type": "execute_result"
    },
    {
     "data": {
      "image/png": "[encoded data removed]",
      "text/plain": [
       "<Figure size 432x288 with 1 Axes>"
      ]
     },
     "metadata": {
      "needs_background": "light"
     },
     "output_type": "display_data"
    }
   ],
   "source": [
    "  plt.imshow(image_array[start[0]:end[0], start[1]:end[1]])"
   ]
  },
  {
   "cell_type": "markdown",
   "metadata": {},
   "source": [
    "## Look for the matches"
   ]
  },
  {
   "cell_type": "code",
   "execution_count": 110,
   "metadata": {},
   "outputs": [],
   "source": [
    "candidates = list()"
   ]
  },
  {
   "cell_type": "code",
   "execution_count": null,
   "metadata": {},
   "outputs": [],
   "source": []
  },
  {
   "cell_type": "code",
   "execution_count": 111,
   "metadata": {},
   "outputs": [],
   "source": [
    "for tile in legal_tiles:\n",
    "#     print(tile)\n",
    "#     display(generate_children(Root.board.copy(), tile)[0].board)\n",
    "    candidates.extend(generate_children(Root.board.copy(), tile))"
   ]
  },
  {
   "cell_type": "code",
   "execution_count": 526,
   "metadata": {},
   "outputs": [
    {
     "ename": "AttributeError",
     "evalue": "'numpy.ndarray' object has no attribute 'loc'",
     "output_type": "error",
     "traceback": [
      "\u001b[0;31m---------------------------------------------------------------------------\u001b[0m",
      "\u001b[0;31mAttributeError\u001b[0m                            Traceback (most recent call last)",
      "\u001b[0;32m<ipython-input-526-e567a496c928>\u001b[0m in \u001b[0;36m<module>\u001b[0;34m\u001b[0m\n\u001b[0;32m----> 1\u001b[0;31m \u001b[0mplt\u001b[0m\u001b[0;34m.\u001b[0m\u001b[0mimshow\u001b[0m\u001b[0;34m(\u001b[0m\u001b[0mimage_array\u001b[0m\u001b[0;34m.\u001b[0m\u001b[0mloc\u001b[0m\u001b[0;34m[\u001b[0m\u001b[0;36m532\u001b[0m\u001b[0;34m:\u001b[0m\u001b[0;36m665\u001b[0m\u001b[0;34m,\u001b[0m \u001b[0;36m532\u001b[0m\u001b[0;34m:\u001b[0m\u001b[0;36m665\u001b[0m\u001b[0;34m]\u001b[0m\u001b[0;34m)\u001b[0m\u001b[0;34m\u001b[0m\u001b[0;34m\u001b[0m\u001b[0m\n\u001b[0m",
      "\u001b[0;31mAttributeError\u001b[0m: 'numpy.ndarray' object has no attribute 'loc'"
     ]
    }
   ],
   "source": [
    "  plt.imshow(image_array[532:665,"
   ]
  },
  {
   "cell_type": "code",
   "execution_count": 112,
   "metadata": {},
   "outputs": [],
   "source": [
    "# candidates"
   ]
  },
  {
   "cell_type": "markdown",
   "metadata": {},
   "source": [
    "### Look for matches in the resulting boards."
   ]
  },
  {
   "cell_type": "code",
   "execution_count": 113,
   "metadata": {},
   "outputs": [],
   "source": [
    "for candidate in candidates:\n",
    "    # Column-wise\n",
    "    # Get types of the match to look for.\n",
    "    types=[]\n",
    "    types.append(candidate.board.iloc[candidate.frm[0], candidate.frm[1]])\n",
    "    types.append(candidate.board.iloc[candidate.at[0], candidate.at[1]])\n",
    "    for typ in types:\n",
    "\n",
    "        # Search the column for the values of the given type\n",
    "        res_vert = {i : select_type(typ, candidate.board, col=i) for i in candidate.board.columns \n",
    "                    if select_type(typ, candidate.board, col=i).any()}\n",
    "\n",
    "        # Now look for actual matches in the result of the search\n",
    "        for key, val in res_vert.items():\n",
    "                        match = find_match(val)\n",
    "                        if match:\n",
    "                            candidate.matches_vert.append( Match( val.all(), candidate.board.loc[match,key] ))\n",
    "        # And row-wise\n",
    "        res_horiz = {i : select_type(typ, candidate.board, ind=i) for i in candidate.board.index \n",
    "                     if select_type(typ, candidate.board, ind=i).any()}\n",
    "\n",
    "        for key, val in res_horiz.items():\n",
    "                        match = find_match(val)\n",
    "                        if match:\n",
    "                            candidate.matches_horiz.append( Match( val.all(), candidate.board.loc[key, match] ))"
   ]
  },
  {
   "cell_type": "raw",
   "metadata": {},
   "source": [
    "pd.DataFrame([i.matches_vert[0].pos for i in candidates if i.matches_vert])"
   ]
  },
  {
   "cell_type": "raw",
   "metadata": {},
   "source": [
    "pd.DataFrame([cand.matches_horiz[0].pos for cand in candidates if cand.matches_horiz])"
   ]
  },
  {
   "cell_type": "markdown",
   "metadata": {},
   "source": [
    "### Prune the children. Keep boards with matches, delete the rest."
   ]
  },
  {
   "cell_type": "code",
   "execution_count": 116,
   "metadata": {},
   "outputs": [],
   "source": [
    "# Choose candidates that have vertical matches:\n",
    "vert_cands = [cand for cand in candidates if any(cand.matches_vert)]"
   ]
  },
  {
   "cell_type": "code",
   "execution_count": 117,
   "metadata": {},
   "outputs": [],
   "source": [
    "# Choose candidates that have horizontal matches:\n",
    "horiz_cands = [cand for cand in candidates if any(cand.matches_horiz)]"
   ]
  },
  {
   "cell_type": "markdown",
   "metadata": {},
   "source": [
    "### Evaluate children"
   ]
  },
  {
   "cell_type": "code",
   "execution_count": 118,
   "metadata": {},
   "outputs": [],
   "source": [
    "selected = []"
   ]
  },
  {
   "cell_type": "code",
   "execution_count": null,
   "metadata": {},
   "outputs": [],
   "source": [
    "# Look for double matches of the same type as they are likely to indicate super matches\n",
    "# Select cadidates that have matches in both horiz and vert, check if both matches are same color."
   ]
  },
  {
   "cell_type": "code",
   "execution_count": null,
   "metadata": {
    "scrolled": true
   },
   "outputs": [],
   "source": [
    "# TODO: add bonus score for a sertain amount of certain type of candy."
   ]
  },
  {
   "cell_type": "code",
   "execution_count": null,
   "metadata": {},
   "outputs": [],
   "source": [
    "# TODO: add score for obstacles in neighbouring board cells."
   ]
  },
  {
   "cell_type": "code",
   "execution_count": 119,
   "metadata": {},
   "outputs": [],
   "source": [
    "for gamestate in filter(lambda x: x in horiz_cands, vert_cands):\n",
    "#     display(gamestate.board)\n",
    "    if any([i.typ==j.typ for i in gamestate.matches_vert for j in gamestate.matches_horiz]):\n",
    "        gamestate.super=True\n",
    "    selected.append(gamestate)    "
   ]
  },
  {
   "cell_type": "code",
   "execution_count": 120,
   "metadata": {},
   "outputs": [],
   "source": [
    "# Sum of all matches sizes in the GameState\n",
    "def sum_score(instance):\n",
    "    s = sum([match.size for match in instance.matches_horiz]) + sum(match.size for match in instance.matches_vert)   \n",
    "    return s"
   ]
  },
  {
   "cell_type": "raw",
   "metadata": {},
   "source": [
    "for gamestate in vert_cands:\n",
    "    print (sum_score(gamestate))\n",
    "    display(gamestate.board)\n",
    "    print('='*30, '\\n')"
   ]
  },
  {
   "cell_type": "code",
   "execution_count": 122,
   "metadata": {},
   "outputs": [],
   "source": [
    "main_candidate_horiz = max(horiz_cands, key=sum_score)\n",
    "if any([match.size>3 for match in main_candidate_horiz.matches_horiz]):\n",
    "    main_candidate_horiz.super = True"
   ]
  },
  {
   "cell_type": "code",
   "execution_count": 123,
   "metadata": {},
   "outputs": [],
   "source": [
    "main_candidate_vert = max(vert_cands, key=sum_score)\n",
    "if any([match.size>3 for match in main_candidate_vert.matches_vert]):\n",
    "    main_candidate_vert.super = True"
   ]
  },
  {
   "cell_type": "code",
   "execution_count": 124,
   "metadata": {},
   "outputs": [],
   "source": [
    "main_candidate_horiz.score = sum_score(main_candidate_horiz)"
   ]
  },
  {
   "cell_type": "code",
   "execution_count": 125,
   "metadata": {},
   "outputs": [],
   "source": [
    "main_candidate_vert.score += sum_score(main_candidate_vert)"
   ]
  },
  {
   "cell_type": "code",
   "execution_count": 126,
   "metadata": {},
   "outputs": [],
   "source": [
    "selected.extend([main_candidate_horiz, main_candidate_vert])"
   ]
  },
  {
   "cell_type": "code",
   "execution_count": 127,
   "metadata": {},
   "outputs": [],
   "source": [
    "best = max(selected, key = lambda x: x.score)"
   ]
  },
  {
   "cell_type": "code",
   "execution_count": 269,
   "metadata": {},
   "outputs": [
    {
     "data": {
      "text/html": [
       "<div>\n",
       "<style scoped>\n",
       "    .dataframe tbody tr th:only-of-type {\n",
       "        vertical-align: middle;\n",
       "    }\n",
       "\n",
       "    .dataframe tbody tr th {\n",
       "        vertical-align: top;\n",
       "    }\n",
       "\n",
       "    .dataframe thead th {\n",
       "        text-align: right;\n",
       "    }\n",
       "</style>\n",
       "<table border=\"1\" class=\"dataframe\">\n",
       "  <thead>\n",
       "    <tr style=\"text-align: right;\">\n",
       "      <th></th>\n",
       "      <th>0</th>\n",
       "      <th>1</th>\n",
       "      <th>2</th>\n",
       "      <th>3</th>\n",
       "      <th>4</th>\n",
       "    </tr>\n",
       "  </thead>\n",
       "  <tbody>\n",
       "    <tr>\n",
       "      <th>0</th>\n",
       "      <td>0</td>\n",
       "      <td>red</td>\n",
       "      <td>0</td>\n",
       "      <td>0</td>\n",
       "      <td>red</td>\n",
       "    </tr>\n",
       "    <tr>\n",
       "      <th>1</th>\n",
       "      <td>0</td>\n",
       "      <td>orange</td>\n",
       "      <td>orange</td>\n",
       "      <td>orange</td>\n",
       "      <td>blue</td>\n",
       "    </tr>\n",
       "    <tr>\n",
       "      <th>2</th>\n",
       "      <td>0</td>\n",
       "      <td>blue</td>\n",
       "      <td>blue</td>\n",
       "      <td>blue</td>\n",
       "      <td>red</td>\n",
       "    </tr>\n",
       "    <tr>\n",
       "      <th>3</th>\n",
       "      <td>0</td>\n",
       "      <td>orange</td>\n",
       "      <td>blue</td>\n",
       "      <td>0</td>\n",
       "      <td>red</td>\n",
       "    </tr>\n",
       "    <tr>\n",
       "      <th>4</th>\n",
       "      <td>0</td>\n",
       "      <td>0</td>\n",
       "      <td>0</td>\n",
       "      <td>0</td>\n",
       "      <td>0</td>\n",
       "    </tr>\n",
       "  </tbody>\n",
       "</table>\n",
       "</div>"
      ],
      "text/plain": [
       "   0       1       2       3     4\n",
       "0  0     red       0       0   red\n",
       "1  0  orange  orange  orange  blue\n",
       "2  0    blue    blue    blue   red\n",
       "3  0  orange    blue       0   red\n",
       "4  0       0       0       0     0"
      ]
     },
     "execution_count": 269,
     "metadata": {},
     "output_type": "execute_result"
    }
   ],
   "source": [
    "best.board"
   ]
  },
  {
   "cell_type": "raw",
   "metadata": {},
   "source": [
    "collapse matches: \n",
    "- create empty cells where matches are \n",
    "- move remaining candies to fill the space."
   ]
  },
  {
   "cell_type": "code",
   "execution_count": null,
   "metadata": {},
   "outputs": [],
   "source": [
    "# screen size\n",
    "pyautogui.size().height"
   ]
  },
  {
   "cell_type": "code",
   "execution_count": 301,
   "metadata": {},
   "outputs": [
    {
     "data": {
      "text/html": [
       "<div>\n",
       "<style scoped>\n",
       "    .dataframe tbody tr th:only-of-type {\n",
       "        vertical-align: middle;\n",
       "    }\n",
       "\n",
       "    .dataframe tbody tr th {\n",
       "        vertical-align: top;\n",
       "    }\n",
       "\n",
       "    .dataframe thead th {\n",
       "        text-align: right;\n",
       "    }\n",
       "</style>\n",
       "<table border=\"1\" class=\"dataframe\">\n",
       "  <thead>\n",
       "    <tr style=\"text-align: right;\">\n",
       "      <th></th>\n",
       "      <th>0</th>\n",
       "      <th>1</th>\n",
       "      <th>2</th>\n",
       "      <th>3</th>\n",
       "      <th>4</th>\n",
       "    </tr>\n",
       "  </thead>\n",
       "  <tbody>\n",
       "    <tr>\n",
       "      <th>0</th>\n",
       "      <td>0</td>\n",
       "      <td>red</td>\n",
       "      <td>0</td>\n",
       "      <td>0</td>\n",
       "      <td>red</td>\n",
       "    </tr>\n",
       "    <tr>\n",
       "      <th>1</th>\n",
       "      <td>0</td>\n",
       "      <td>blue</td>\n",
       "      <td>orange</td>\n",
       "      <td>orange</td>\n",
       "      <td>blue</td>\n",
       "    </tr>\n",
       "    <tr>\n",
       "      <th>2</th>\n",
       "      <td>0</td>\n",
       "      <td>orange</td>\n",
       "      <td>blue</td>\n",
       "      <td>blue</td>\n",
       "      <td>red</td>\n",
       "    </tr>\n",
       "    <tr>\n",
       "      <th>3</th>\n",
       "      <td>0</td>\n",
       "      <td>orange</td>\n",
       "      <td>blue</td>\n",
       "      <td>0</td>\n",
       "      <td>red</td>\n",
       "    </tr>\n",
       "    <tr>\n",
       "      <th>4</th>\n",
       "      <td>0</td>\n",
       "      <td>0</td>\n",
       "      <td>0</td>\n",
       "      <td>0</td>\n",
       "      <td>obstacle</td>\n",
       "    </tr>\n",
       "  </tbody>\n",
       "</table>\n",
       "</div>"
      ],
      "text/plain": [
       "   0       1       2       3         4\n",
       "0  0     red       0       0       red\n",
       "1  0    blue  orange  orange      blue\n",
       "2  0  orange    blue    blue       red\n",
       "3  0  orange    blue       0       red\n",
       "4  0       0       0       0  obstacle"
      ]
     },
     "execution_count": 301,
     "metadata": {},
     "output_type": "execute_result"
    }
   ],
   "source": [
    "Root.board"
   ]
  },
  {
   "cell_type": "code",
   "execution_count": 366,
   "metadata": {},
   "outputs": [
    {
     "data": {
      "text/plain": [
       "3"
      ]
     },
     "execution_count": 366,
     "metadata": {},
     "output_type": "execute_result"
    }
   ],
   "source": [
    "Root.board.loc[:,4][Root.board[4]=='red'].index.max()"
   ]
  },
  {
   "cell_type": "code",
   "execution_count": 362,
   "metadata": {},
   "outputs": [
    {
     "data": {
      "text/plain": [
       "2         red\n",
       "3    obstacle\n",
       "Name: 4, dtype: object"
      ]
     },
     "execution_count": 362,
     "metadata": {},
     "output_type": "execute_result"
    }
   ],
   "source": [
    "Root.board.shift(-1).loc[[2, 3],4]"
   ]
  },
  {
   "cell_type": "code",
   "execution_count": 360,
   "metadata": {},
   "outputs": [
    {
     "data": {
      "text/plain": [
       "4    NaN\n",
       "Name: 4, dtype: object"
      ]
     },
     "execution_count": 360,
     "metadata": {},
     "output_type": "execute_result"
    }
   ],
   "source": [
    "Root.board[4][Root.board[4]=='obstacle'].shift(-1)"
   ]
  },
  {
   "cell_type": "code",
   "execution_count": 355,
   "metadata": {},
   "outputs": [
    {
     "data": {
      "text/html": [
       "<div>\n",
       "<style scoped>\n",
       "    .dataframe tbody tr th:only-of-type {\n",
       "        vertical-align: middle;\n",
       "    }\n",
       "\n",
       "    .dataframe tbody tr th {\n",
       "        vertical-align: top;\n",
       "    }\n",
       "\n",
       "    .dataframe thead th {\n",
       "        text-align: right;\n",
       "    }\n",
       "</style>\n",
       "<table border=\"1\" class=\"dataframe\">\n",
       "  <thead>\n",
       "    <tr style=\"text-align: right;\">\n",
       "      <th></th>\n",
       "      <th>0</th>\n",
       "      <th>1</th>\n",
       "      <th>2</th>\n",
       "      <th>3</th>\n",
       "      <th>4</th>\n",
       "    </tr>\n",
       "  </thead>\n",
       "  <tbody>\n",
       "    <tr>\n",
       "      <th>0</th>\n",
       "      <td>0</td>\n",
       "      <td>red</td>\n",
       "      <td>0</td>\n",
       "      <td>0</td>\n",
       "      <td>red</td>\n",
       "    </tr>\n",
       "    <tr>\n",
       "      <th>1</th>\n",
       "      <td>0</td>\n",
       "      <td>blue</td>\n",
       "      <td>orange</td>\n",
       "      <td>orange</td>\n",
       "      <td>blue</td>\n",
       "    </tr>\n",
       "    <tr>\n",
       "      <th>2</th>\n",
       "      <td>0</td>\n",
       "      <td>orange</td>\n",
       "      <td>blue</td>\n",
       "      <td>blue</td>\n",
       "      <td>red</td>\n",
       "    </tr>\n",
       "    <tr>\n",
       "      <th>3</th>\n",
       "      <td>0</td>\n",
       "      <td>orange</td>\n",
       "      <td>blue</td>\n",
       "      <td>0</td>\n",
       "      <td>red</td>\n",
       "    </tr>\n",
       "    <tr>\n",
       "      <th>4</th>\n",
       "      <td>0</td>\n",
       "      <td>0</td>\n",
       "      <td>0</td>\n",
       "      <td>0</td>\n",
       "      <td>obstacle</td>\n",
       "    </tr>\n",
       "  </tbody>\n",
       "</table>\n",
       "</div>"
      ],
      "text/plain": [
       "   0       1       2       3         4\n",
       "0  0     red       0       0       red\n",
       "1  0    blue  orange  orange      blue\n",
       "2  0  orange    blue    blue       red\n",
       "3  0  orange    blue       0       red\n",
       "4  0       0       0       0  obstacle"
      ]
     },
     "execution_count": 355,
     "metadata": {},
     "output_type": "execute_result"
    }
   ],
   "source": [
    "Root.board"
   ]
  },
  {
   "cell_type": "code",
   "execution_count": null,
   "metadata": {},
   "outputs": [],
   "source": []
  },
  {
   "cell_type": "code",
   "execution_count": 311,
   "metadata": {},
   "outputs": [
    {
     "data": {
      "text/plain": [
       "0     True\n",
       "1    False\n",
       "2     True\n",
       "3     True\n",
       "4    False\n",
       "Name: 4, dtype: bool"
      ]
     },
     "execution_count": 311,
     "metadata": {},
     "output_type": "execute_result"
    }
   ],
   "source": [
    "Root.board[4]=='red'"
   ]
  },
  {
   "cell_type": "code",
   "execution_count": 291,
   "metadata": {},
   "outputs": [
    {
     "data": {
      "text/plain": [
       "3"
      ]
     },
     "execution_count": 291,
     "metadata": {},
     "output_type": "execute_result"
    }
   ],
   "source": [
    "np.argmin(error)"
   ]
  }
 ],
 "metadata": {
  "kernelspec": {
   "display_name": "Python 3",
   "language": "python",
   "name": "python3"
  },
  "language_info": {
   "codemirror_mode": {
    "name": "ipython",
    "version": 3
   },
   "file_extension": ".py",
   "mimetype": "text/x-python",
   "name": "python",
   "nbconvert_exporter": "python",
   "pygments_lexer": "ipython3",
   "version": "3.8.2"
  }
 },
 "nbformat": 4,
 "nbformat_minor": 4
}
