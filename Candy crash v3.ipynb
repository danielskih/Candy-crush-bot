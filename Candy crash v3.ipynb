{
 "cells": [
  {
   "cell_type": "code",
   "execution_count": 1,
   "metadata": {},
   "outputs": [],
   "source": [
    "from IPython.display import Image, display\n",
    "import numpy as np\n",
    "import matplotlib.pyplot as plt\n",
    "%matplotlib inline\n",
    "from time import sleep\n",
    "from PIL import Image as Imag\n",
    "import pyautogui\n",
    "import pandas as pd\n",
    "from copy import deepcopy"
   ]
  },
  {
   "cell_type": "code",
   "execution_count": 2,
   "metadata": {},
   "outputs": [],
   "source": [
    "# Legal moves list\n",
    "legal=['blue', 'red', 'green', 'violett']"
   ]
  },
  {
   "cell_type": "code",
   "execution_count": 3,
   "metadata": {},
   "outputs": [],
   "source": [
    "def closeButtonLookup():\n",
    "    '''Looks for close button and presses it returns False if close button is not found, else - True'''\n",
    "    if bool(pyautogui.locateCenterOnScreen('Images/btn_close.png', confidence=0.7))==True:\n",
    "        x, y = pyautogui.locateCenterOnScreen('Images/btn_close.png', confidence=0.7)\n",
    "        pyautogui.click(x/2, y/2, duration=0.5, button='right')\n",
    "        print('OK,I am out of here!')\n",
    "        return True\n",
    "    return False"
   ]
  },
  {
   "cell_type": "code",
   "execution_count": 45,
   "metadata": {},
   "outputs": [],
   "source": [
    "class GameState():\n",
    "    '''Game state, board = dataframe, 'frm' and 'at' = lists of row/colum values of origin and current position'''\n",
    "    def __init__(self,  board, parent=None, frm=None, at=None):\n",
    "        self.board = board\n",
    "        self.parent = parent\n",
    "        self.frm = frm\n",
    "        self.at = at\n",
    "        self.matches = list()\n",
    "        self.children = list()\n",
    "\n",
    "    def find_matches(self):\n",
    "        \n",
    "        for child in self.children:\n",
    "    #         TODO: loop over legal candidates\n",
    "            res_vert = {i : select_type('red', self.children[1].board, col=i) for i in self.children[1].board.columns \n",
    "                if select_type('red', self.children[1].board, col=i).any()}\n",
    "            for key, val in res_vert.items():\n",
    "                match = list(find_match(val))\n",
    "                if match:\n",
    "                    print(self.board.loc[match,key])\n",
    "                    self.matches.append( Match(self.board.loc[match,key], val.all()))\n",
    "\n",
    "#             print(find_match(val))\n",
    "#             print(val.all())"
   ]
  },
  {
   "cell_type": "code",
   "execution_count": 30,
   "metadata": {},
   "outputs": [],
   "source": [
    "class Match():\n",
    "    '''Match contains info on size, position and type of candy'''\n",
    "    def __init__(self, typ, pos):\n",
    "        self.size = pos.shape[0]\n",
    "        self.pos = pos\n",
    "        self.typ = typ       "
   ]
  },
  {
   "cell_type": "code",
   "execution_count": 6,
   "metadata": {},
   "outputs": [],
   "source": [
    "def find_match(selected): \n",
    "    '''Takes Series as an input, returns index of a match3 in the series if there is, else: False'''\n",
    "    match=[i for i in selected.index]\n",
    "    diff = [1]+[i-j for j,i in zip(match[:-1], match[1:])]\n",
    "    diff = np.absolute(np.array(diff)) \n",
    "    mask = diff == 1\n",
    "    if selected[mask].size>=3:\n",
    "        return selected[mask].index\n",
    "    return False"
   ]
  },
  {
   "cell_type": "markdown",
   "metadata": {},
   "source": [
    "## Create board"
   ]
  },
  {
   "cell_type": "markdown",
   "metadata": {},
   "source": [
    "#### Get input for board height and width."
   ]
  },
  {
   "cell_type": "code",
   "execution_count": 7,
   "metadata": {},
   "outputs": [],
   "source": [
    "# board_w = int(input('Borad width is:  '))\n",
    "board_w = 5"
   ]
  },
  {
   "cell_type": "code",
   "execution_count": 8,
   "metadata": {},
   "outputs": [],
   "source": [
    "# board_h = int(input('Borad width is: '))\n",
    "board_h = 5"
   ]
  },
  {
   "cell_type": "code",
   "execution_count": 9,
   "metadata": {},
   "outputs": [],
   "source": [
    "board = pd.DataFrame('0', index=range(board_h), columns=range(board_w))\n",
    "Root = GameState(board) "
   ]
  },
  {
   "cell_type": "code",
   "execution_count": 78,
   "metadata": {},
   "outputs": [
    {
     "data": {
      "text/html": [
       "<div>\n",
       "<style scoped>\n",
       "    .dataframe tbody tr th:only-of-type {\n",
       "        vertical-align: middle;\n",
       "    }\n",
       "\n",
       "    .dataframe tbody tr th {\n",
       "        vertical-align: top;\n",
       "    }\n",
       "\n",
       "    .dataframe thead th {\n",
       "        text-align: right;\n",
       "    }\n",
       "</style>\n",
       "<table border=\"1\" class=\"dataframe\">\n",
       "  <thead>\n",
       "    <tr style=\"text-align: right;\">\n",
       "      <th></th>\n",
       "      <th>0</th>\n",
       "      <th>1</th>\n",
       "      <th>2</th>\n",
       "      <th>3</th>\n",
       "      <th>4</th>\n",
       "    </tr>\n",
       "  </thead>\n",
       "  <tbody>\n",
       "    <tr>\n",
       "      <th>0</th>\n",
       "      <td>0</td>\n",
       "      <td>0</td>\n",
       "      <td>0</td>\n",
       "      <td>0</td>\n",
       "      <td>0</td>\n",
       "    </tr>\n",
       "    <tr>\n",
       "      <th>1</th>\n",
       "      <td>0</td>\n",
       "      <td>red</td>\n",
       "      <td>red</td>\n",
       "      <td>0</td>\n",
       "      <td>red</td>\n",
       "    </tr>\n",
       "    <tr>\n",
       "      <th>2</th>\n",
       "      <td>0</td>\n",
       "      <td>blue</td>\n",
       "      <td>blue</td>\n",
       "      <td>blue</td>\n",
       "      <td>red</td>\n",
       "    </tr>\n",
       "    <tr>\n",
       "      <th>3</th>\n",
       "      <td>0</td>\n",
       "      <td>blue</td>\n",
       "      <td>0</td>\n",
       "      <td>0</td>\n",
       "      <td>red</td>\n",
       "    </tr>\n",
       "    <tr>\n",
       "      <th>4</th>\n",
       "      <td>0</td>\n",
       "      <td>0</td>\n",
       "      <td>0</td>\n",
       "      <td>0</td>\n",
       "      <td>0</td>\n",
       "    </tr>\n",
       "  </tbody>\n",
       "</table>\n",
       "</div>"
      ],
      "text/plain": [
       "   0     1     2     3    4\n",
       "0  0     0     0     0    0\n",
       "1  0   red   red     0  red\n",
       "2  0  blue  blue  blue  red\n",
       "3  0  blue     0     0  red\n",
       "4  0     0     0     0    0"
      ]
     },
     "execution_count": 78,
     "metadata": {},
     "output_type": "execute_result"
    }
   ],
   "source": [
    "Root.board"
   ]
  },
  {
   "cell_type": "markdown",
   "metadata": {},
   "source": [
    "#### Add some candy manually for testing purpouse"
   ]
  },
  {
   "cell_type": "code",
   "execution_count": 11,
   "metadata": {},
   "outputs": [],
   "source": [
    "Root.board.loc[1,[1,2,4]]='red'\n",
    "Root.board.loc[2,[1,2,3]]='blue'\n",
    "Root.board.loc[[1,2,3],4]='red'\n",
    "Root.board.loc[3,1]='blue'"
   ]
  },
  {
   "cell_type": "markdown",
   "metadata": {},
   "source": [
    "## Look for the matches"
   ]
  },
  {
   "cell_type": "code",
   "execution_count": 12,
   "metadata": {},
   "outputs": [],
   "source": [
    "def select_type(typ, board, ind=board.index, col=board.columns):\n",
    "    '''Select all instances of a given type in a Series = board.iloc[ind, col] where board is Pandas DataFrame\n",
    "    one of the kwargs MUST be given'''\n",
    "    selected = board.loc[ind,col][board.loc[ind,col]==typ]\n",
    "#     print(list(filter(lambda x: type(x)==int, [ind,col])))\n",
    "    if selected.size>=3:\n",
    "        return selected\n",
    "    return pd.Series(dtype='object')"
   ]
  },
  {
   "cell_type": "code",
   "execution_count": 13,
   "metadata": {},
   "outputs": [],
   "source": [
    "def move_to(board, fr, to):\n",
    "    '''Takes a Dataframe, and two lists of row/col values, swaps values in specified cells. \n",
    "        Outputs resulting Data frame '''\n",
    "    board = board.copy()\n",
    "    board.loc[fr[0], fr[1]], board.loc[to[0], to[1]] = board.loc[to[0], to[1]], board.loc[fr[0], fr[1]]\n",
    "    return board"
   ]
  },
  {
   "cell_type": "code",
   "execution_count": 65,
   "metadata": {},
   "outputs": [],
   "source": [
    "def generate_children(board, pos):\n",
    "#     TODO: make pos a positional arg.\n",
    "    '''Generate valid moves from a given tile, pos=list of row/col values'''\n",
    "    positions = np.array(pos)\n",
    "    directions = np.array([[1, 0], [0, 1], [-1, 0], [0, -1]])\n",
    "    moves = np.add(positions, directions)\n",
    "    # Filter the values outside of the board\n",
    "    moves = moves[(0<=moves[:,0]) & (moves[:,0]<board_w)]\n",
    "    moves = moves[(0<=moves[:,1]) & (moves[:,1]<board_h)]\n",
    "    # filter the legal moves and save them in a children nodes attribute\n",
    "    children=[GameState(move_to(board.copy(), pos, i), None, frm=pos, at=i) for i in moves if \n",
    "              board.iloc[i[0],i[1]] in legal]\n",
    "    return children"
   ]
  },
  {
   "cell_type": "code",
   "execution_count": 101,
   "metadata": {},
   "outputs": [],
   "source": [
    "from itertools import product, chain"
   ]
  },
  {
   "cell_type": "code",
   "execution_count": 96,
   "metadata": {},
   "outputs": [],
   "source": [
    "all_tiles = list(product(range(5),range(5)))"
   ]
  },
  {
   "cell_type": "code",
   "execution_count": 97,
   "metadata": {},
   "outputs": [],
   "source": [
    "candidates = [generate_children(Root.board, tile) \n",
    "              for tile in all_tiles if Root.board.iloc[tile[0], tile[1]] in legal ]"
   ]
  },
  {
   "cell_type": "code",
   "execution_count": 99,
   "metadata": {},
   "outputs": [
    {
     "name": "stdout",
     "output_type": "stream",
     "text": [
      "This is a result of a move from (1, 2) to [2 2]\n"
     ]
    }
   ],
   "source": [
    "print(f'This is a result of a move from {candidates[1][0].frm} to {candidates[1][0].at}')"
   ]
  },
  {
   "cell_type": "code",
   "execution_count": 105,
   "metadata": {},
   "outputs": [
    {
     "data": {
      "text/plain": [
       "<__main__.GameState at 0x7f9350315790>"
      ]
     },
     "execution_count": 105,
     "metadata": {},
     "output_type": "execute_result"
    }
   ],
   "source": [
    "next(chain(*candidates))"
   ]
  },
  {
   "cell_type": "markdown",
   "metadata": {},
   "source": [
    "### Look for matches in one of resulting boards.\n",
    "\n",
    "Column-wise."
   ]
  },
  {
   "cell_type": "code",
   "execution_count": 108,
   "metadata": {},
   "outputs": [],
   "source": [
    "candidate = next(chain(*candidates))"
   ]
  },
  {
   "cell_type": "code",
   "execution_count": 110,
   "metadata": {},
   "outputs": [
    {
     "data": {
      "text/plain": [
       "'blue'"
      ]
     },
     "execution_count": 110,
     "metadata": {},
     "output_type": "execute_result"
    }
   ],
   "source": [
    "typ = candidate.board.iloc[candidate.frm[0], candidate.frm[1]]"
   ]
  },
  {
   "cell_type": "code",
   "execution_count": 24,
   "metadata": {},
   "outputs": [],
   "source": [
    "res_vert = {i : select_type(typ, candidate.board, col=i) for i in candidate.board.columns \n",
    "            if select_type(typ, candidate.board, col=i).any()}"
   ]
  },
  {
   "cell_type": "code",
   "execution_count": null,
   "metadata": {},
   "outputs": [],
   "source": []
  },
  {
   "cell_type": "markdown",
   "metadata": {},
   "source": [
    "And row-wise"
   ]
  },
  {
   "cell_type": "code",
   "execution_count": 25,
   "metadata": {},
   "outputs": [],
   "source": [
    "res_horyz = {i : select_type(typ, candidate.board, ind=i) for i in candidate.board.index \n",
    "             if select_type(typ, candidate.board, ind=i).any()}"
   ]
  },
  {
   "cell_type": "code",
   "execution_count": 27,
   "metadata": {},
   "outputs": [
    {
     "name": "stdout",
     "output_type": "stream",
     "text": [
      "[1, 2, 3]\n",
      "blue\n"
     ]
    },
    {
     "data": {
      "text/plain": [
       "2"
      ]
     },
     "execution_count": 27,
     "metadata": {},
     "output_type": "execute_result"
    }
   ],
   "source": [
    "for key, val in res_horyz.items():\n",
    "    print(list(find_match(val)))\n",
    "    print(val.all())\n",
    "key    "
   ]
  },
  {
   "cell_type": "code",
   "execution_count": 39,
   "metadata": {},
   "outputs": [
    {
     "data": {
      "text/plain": [
       "'blue'"
      ]
     },
     "execution_count": 39,
     "metadata": {},
     "output_type": "execute_result"
    }
   ],
   "source": [
    "m=Match('blue',Root.board.iloc[2, [1, 2, 3]])\n",
    "Root.matches.append(m)\n",
    "Root.matches[0].typ"
   ]
  },
  {
   "cell_type": "code",
   "execution_count": 47,
   "metadata": {},
   "outputs": [
    {
     "data": {
      "text/plain": [
       "1    blue\n",
       "2    blue\n",
       "3    blue\n",
       "Name: 2, dtype: object"
      ]
     },
     "execution_count": 47,
     "metadata": {},
     "output_type": "execute_result"
    }
   ],
   "source": [
    "Root.matches[0].pos"
   ]
  },
  {
   "cell_type": "code",
   "execution_count": 32,
   "metadata": {},
   "outputs": [],
   "source": [
    "children[1].find_matches()"
   ]
  },
  {
   "cell_type": "code",
   "execution_count": 46,
   "metadata": {},
   "outputs": [
    {
     "data": {
      "text/plain": [
       "[]"
      ]
     },
     "execution_count": 46,
     "metadata": {},
     "output_type": "execute_result"
    }
   ],
   "source": [
    "children[1].matches"
   ]
  },
  {
   "cell_type": "markdown",
   "metadata": {},
   "source": [
    "Find where it is and cahnge output into *nx2* array"
   ]
  },
  {
   "cell_type": "raw",
   "metadata": {},
   "source": [
    "collapse matches: \n",
    "- create empty cells where matches are \n",
    "- move remaining candies to fill the space."
   ]
  },
  {
   "cell_type": "raw",
   "metadata": {},
   "source": [
    "Prune the children. Keep boards with matches, delete the rest."
   ]
  },
  {
   "cell_type": "raw",
   "metadata": {},
   "source": [
    "evaluate children"
   ]
  },
  {
   "cell_type": "code",
   "execution_count": null,
   "metadata": {},
   "outputs": [],
   "source": [
    "# screen size\n",
    "pyautogui.size().height"
   ]
  },
  {
   "cell_type": "code",
   "execution_count": null,
   "metadata": {},
   "outputs": [],
   "source": [
    "tile_w = 500/7\n",
    "tile_h = 524/8"
   ]
  },
  {
   "cell_type": "code",
   "execution_count": null,
   "metadata": {},
   "outputs": [],
   "source": [
    "offset_x = tile_w/2\n",
    "offset_y = tile_h/2"
   ]
  },
  {
   "cell_type": "code",
   "execution_count": null,
   "metadata": {},
   "outputs": [],
   "source": []
  },
  {
   "cell_type": "raw",
   "metadata": {},
   "source": [
    "image = Imag.open(\"Images/game_board.png\")\n",
    "image_array = np.array(image)\n",
    "imgplot = plt.imshow(image_array)"
   ]
  },
  {
   "cell_type": "raw",
   "metadata": {},
   "source": [
    "blue=image_array[:133, :145]"
   ]
  },
  {
   "cell_type": "raw",
   "metadata": {},
   "source": [
    "imgplot = plt.imshow(blue)"
   ]
  },
  {
   "cell_type": "raw",
   "metadata": {},
   "source": [
    "a = np.mean(blue, axis=1)\n",
    "b = np.ones(133)\n",
    "np.matmul(a.T,b)/133"
   ]
  },
  {
   "cell_type": "raw",
   "metadata": {},
   "source": [
    "orange = image_array[:133, 145*2:145*3]\n",
    "plt.imshow(orange)"
   ]
  },
  {
   "cell_type": "raw",
   "metadata": {},
   "source": [
    "# Get mean RGB values\n",
    "c = np.mean(orange, axis=1)\n",
    "d = np.ones(133)\n",
    "np.matmul(c.T,d)/133"
   ]
  },
  {
   "cell_type": "raw",
   "metadata": {},
   "source": [
    "round(image_array.shape[0]/5)"
   ]
  }
 ],
 "metadata": {
  "kernelspec": {
   "display_name": "Python 3",
   "language": "python",
   "name": "python3"
  },
  "language_info": {
   "codemirror_mode": {
    "name": "ipython",
    "version": 3
   },
   "file_extension": ".py",
   "mimetype": "text/x-python",
   "name": "python",
   "nbconvert_exporter": "python",
   "pygments_lexer": "ipython3",
   "version": "3.8.2"
  }
 },
 "nbformat": 4,
 "nbformat_minor": 4
}
